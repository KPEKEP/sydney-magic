{
 "cells": [
  {
   "cell_type": "code",
   "execution_count": 1,
   "id": "6df0493e-3c85-4215-8ffb-0b283f5bd8cd",
   "metadata": {},
   "outputs": [],
   "source": [
    "%load_ext sydney_magic"
   ]
  },
  {
   "cell_type": "code",
   "execution_count": 2,
   "id": "40fb5bac-deb0-4488-ab1d-c7a8e66594b8",
   "metadata": {},
   "outputs": [
    {
     "name": "stdout",
     "output_type": "stream",
     "text": [
      "\n",
      "        Use `%sydney [command]` for line magic or `%%sydney [command]` for cell magic.\n",
      "        Commands:\n",
      "          - ask [prompt]: Ask a question or make a request to Copilot.\n",
      "              Options:\n",
      "                --attachment=[image url or path]\n",
      "                --context=[web-page-source]\n",
      "                --citations=[True|False] \n",
      "                --suggestions: Include suggested responses.\n",
      "                --raw=[True|False]: Get raw JSON response.\n",
      "          - compose [prompt]: Compose content with a specific format and tone.\n",
      "            Options:\n",
      "              --tone=[professional|casual|enthusiastic|informational|funny]: Set the tone for composition.\n",
      "              --format=[paragraph|email|blogpost|ideas]: Set the format for composition.\n",
      "              --length=[short|medium|long]: Set the length for composition.\n",
      "              --suggestions: Include suggested responses.\n",
      "              --raw=[True|False]: Get raw JSON response.\n",
      "        Example:\n",
      "          `%sydney ask \"What is Python?\" --citations`\n",
      "        \n"
     ]
    }
   ],
   "source": [
    "%sydney help"
   ]
  },
  {
   "cell_type": "code",
   "execution_count": 3,
   "id": "502bb4a4-fe29-4de4-8ec9-fcdd4cbd7115",
   "metadata": {},
   "outputs": [
    {
     "name": "stdout",
     "output_type": "stream",
     "text": [
      "```\n",
      "Love is a complex set of emotions, behaviors, and beliefs associated with strong feelings of affection, protectiveness, warmth, and respect for another person. It can also be applied to objects, principles, and religious beliefs.\n",
      "```\n"
     ]
    }
   ],
   "source": [
    "%sydney compose \"What is love?\" --tone=informational"
   ]
  },
  {
   "cell_type": "code",
   "execution_count": 4,
   "id": "c2cf71af-74cd-4deb-993d-f8b9697ea99f",
   "metadata": {},
   "outputs": [
    {
     "name": "stdout",
     "output_type": "stream",
     "text": [
      "Certainly! Here are a couple of Python functions to calculate Fibonacci numbers using dynamic programming (DP) optimization:\n",
      "\n",
      "1. **Dynamic Programming Approach (Memoization)**:\n",
      "```python\n",
      "def fibonacci_dp(n):\n",
      "    # Initialize a cache to store previously calculated solutions\n",
      "    cache = [0, 1]\n",
      "\n",
      "    # If we have the number, just return it\n",
      "    if n < len(cache):\n",
      "        return cache[n]\n",
      "\n",
      "    # Start recursion and store the result in the cache\n",
      "    fib_n = fibonacci_dp(n - 1) + fibonacci_dp(n - 2)\n",
      "    cache.append(fib_n)\n",
      "    return fib_n\n",
      "```\n",
      "\n",
      "2. **One-Liner Approach (Lambda Functions with Memoization)**:\n",
      "```python\n",
      "fibonacci = (\n",
      "    lambda f, _fib_cache={}: lambda n: _fib_cache.setdefault(n, f(f)(n - 1) + f(f)(n - 2)) if n > 1 else n\n",
      ")(\n",
      "    lambda f: lambda n: f(f)(_fib_cache)(n)\n",
      ")\n",
      "```\n",
      "\n",
      "The first approach uses a list (`cache`) to store previously calculated Fibonacci numbers, while the second approach combines recursion, lambda functions, and memoization to compute the sequence efficiently. Feel free to choose the one that suits your needs! 🚀\n",
      "\n",
      "References:\n",
      "1. [Computing Fibonacci Numbers with Dynamic Programming (Python)](https://stackoverflow.com/questions/40880341/computing-fibonacci-numbers-with-dynamic-programming-python)\n",
      "2. [Exploring Recursion: Python Programs to Display the Fibonacci Sequence](https://blog.finxter.com/exploring-recursion-python-programs-to-display-the-fibonacci-sequence/)\n"
     ]
    }
   ],
   "source": [
    "%sydney ask \"Write python function to calculate Fibonacci numbers using DP optimization.\""
   ]
  },
  {
   "cell_type": "code",
   "execution_count": null,
   "id": "04658d5f-d311-4eb0-882e-9da7105cfcbe",
   "metadata": {},
   "outputs": [],
   "source": []
  }
 ],
 "metadata": {
  "kernelspec": {
   "display_name": "Python 3 (ipykernel)",
   "language": "python",
   "name": "python3"
  },
  "language_info": {
   "codemirror_mode": {
    "name": "ipython",
    "version": 3
   },
   "file_extension": ".py",
   "mimetype": "text/x-python",
   "name": "python",
   "nbconvert_exporter": "python",
   "pygments_lexer": "ipython3",
   "version": "3.11.5"
  }
 },
 "nbformat": 4,
 "nbformat_minor": 5
}
