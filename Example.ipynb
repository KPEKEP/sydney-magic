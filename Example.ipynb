{
 "cells": [
  {
   "cell_type": "code",
   "execution_count": null,
   "id": "6df0493e-3c85-4215-8ffb-0b283f5bd8cd",
   "metadata": {},
   "outputs": [],
   "source": [
    "%load_ext sydney_magic"
   ]
  },
  {
   "cell_type": "code",
   "execution_count": null,
   "id": "40fb5bac-deb0-4488-ab1d-c7a8e66594b8",
   "metadata": {},
   "outputs": [],
   "source": [
    "%sydney help"
   ]
  },
  {
   "cell_type": "code",
   "execution_count": null,
   "id": "502bb4a4-fe29-4de4-8ec9-fcdd4cbd7115",
   "metadata": {},
   "outputs": [],
   "source": [
    "%sydney compose \"What is love?\"--tone=informational"
   ]
  },
  {
   "cell_type": "code",
   "execution_count": null,
   "id": "c2cf71af-74cd-4deb-993d-f8b9697ea99f",
   "metadata": {},
   "outputs": [],
   "source": [
    "%sydney ask \"Write a python function to calculate Fibonacci numbers using DP optimization.\""
   ]
  },
  {
   "cell_type": "code",
   "execution_count": null,
   "id": "c354e630-cdf0-4df5-9f68-2306191a9468",
   "metadata": {},
   "outputs": [],
   "source": [
    "%%sydney ask\n",
    "Write python code for the following description:\n",
    "Love is a complex set of emotions, behaviors, and beliefs associated with strong feelings of affection, protectiveness, warmth, and respect for another person. It can also be applied to pets, principles, and religious beliefs."
   ]
  },
  {
   "cell_type": "code",
   "execution_count": null,
   "id": "04658d5f-d311-4eb0-882e-9da7105cfcbe",
   "metadata": {},
   "outputs": [],
   "source": [
    "%%sydney compose --tone=professional\n",
    "Analyze this code:\n",
    "\n",
    "```python\n",
    "# Define a dictionary for love\n",
    "love = {\n",
    "    \"emotions\": [\"affection\", \"warmth\"],\n",
    "    \"behaviors\": [\"protectiveness\", \"respect\"],\n",
    "    \"associated_with\": [\"another person\", \"pets\", \"principles\", \"religious beliefs\"]\n",
    "}\n",
    "\n",
    "# Print the dictionary\n",
    "print(\"Love is a complex set of:\")\n",
    "print(f\"- Emotions: {', '.join(love['emotions'])}\")\n",
    "print(f\"- Behaviors: {', '.join(love['behaviors'])}\")\n",
    "print(f\"- Associated with: {', '.join(love['associated_with'])}\")\n",
    "```\n"
   ]
  },
  {
   "cell_type": "code",
   "execution_count": null,
   "id": "b1e8efe1-6877-447e-aefe-b7152bce94a9",
   "metadata": {},
   "outputs": [],
   "source": [
    "la-ba-duba dub dub!"
   ]
  },
  {
   "cell_type": "code",
   "execution_count": null,
   "id": "81f15d1f-1bdf-41ee-aa13-7c9a6e1bae65",
   "metadata": {},
   "outputs": [],
   "source": [
    "%sydney error"
   ]
  },
  {
   "cell_type": "code",
   "execution_count": null,
   "id": "49ac093c-3abf-4694-a662-ab1c22734c50",
   "metadata": {},
   "outputs": [],
   "source": [
    "%sydney explain"
   ]
  },
  {
   "cell_type": "code",
   "execution_count": null,
   "id": "ce58a534-271b-499f-958e-79460ad23132",
   "metadata": {},
   "outputs": [],
   "source": [
    "%sydney readme"
   ]
  },
  {
   "cell_type": "code",
   "execution_count": null,
   "id": "cca4dbb0-032d-441b-babb-64e36b0803fb",
   "metadata": {},
   "outputs": [],
   "source": []
  }
 ],
 "metadata": {
  "kernelspec": {
   "display_name": "Python 3 (ipykernel)",
   "language": "python",
   "name": "python3"
  },
  "language_info": {
   "codemirror_mode": {
    "name": "ipython",
    "version": 3
   },
   "file_extension": ".py",
   "mimetype": "text/x-python",
   "name": "python",
   "nbconvert_exporter": "python",
   "pygments_lexer": "ipython3",
   "version": "3.11.5"
  }
 },
 "nbformat": 4,
 "nbformat_minor": 5
}
